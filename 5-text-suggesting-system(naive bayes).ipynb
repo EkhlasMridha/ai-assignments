{
  "nbformat": 4,
  "nbformat_minor": 0,
  "metadata": {
    "colab": {
      "name": "Untitled12.ipynb",
      "provenance": []
    },
    "kernelspec": {
      "name": "python3",
      "display_name": "Python 3"
    }
  },
  "cells": [
    {
      "cell_type": "code",
      "metadata": {
        "id": "Apb_3n0Kdlr0"
      },
      "source": [
        "import nltk\r\n",
        "from nltk import bigrams,trigrams \r\n",
        "from nltk.corpus import reuters\r\n",
        "from collections import Counter, defaultdict\r\n",
        "from gensim.test.utils import datapath\r\n",
        "from gensim.corpora import WikiCorpus as wkc\r\n"
      ],
      "execution_count": 69,
      "outputs": []
    },
    {
      "cell_type": "code",
      "metadata": {
        "id": "5jw7F08BfekW"
      },
      "source": [
        "wikidspath = datapath('enwiki-latest-pages-articles1.xml-p000000010p000030302-shortened.bz2')\r\n",
        "sentences = wkc(wikidspath).get_texts()"
      ],
      "execution_count": 70,
      "outputs": []
    },
    {
      "cell_type": "code",
      "metadata": {
        "colab": {
          "base_uri": "https://localhost:8080/"
        },
        "id": "GP1DGUrffkY8",
        "outputId": "9752e5c6-0835-4886-ee38-dfe8f2c890b2"
      },
      "source": [
        "nltk.download('punkt')\r\n",
        "nltk.download('reuters')"
      ],
      "execution_count": 71,
      "outputs": [
        {
          "output_type": "stream",
          "text": [
            "[nltk_data] Downloading package punkt to /root/nltk_data...\n",
            "[nltk_data]   Package punkt is already up-to-date!\n",
            "[nltk_data] Downloading package reuters to /root/nltk_data...\n",
            "[nltk_data]   Package reuters is already up-to-date!\n"
          ],
          "name": "stdout"
        },
        {
          "output_type": "execute_result",
          "data": {
            "text/plain": [
              "True"
            ]
          },
          "metadata": {
            "tags": []
          },
          "execution_count": 71
        }
      ]
    },
    {
      "cell_type": "code",
      "metadata": {
        "id": "hQDD5OApfyEf"
      },
      "source": [
        "reutrsSentence  = reuters.sents()"
      ],
      "execution_count": 80,
      "outputs": []
    },
    {
      "cell_type": "code",
      "metadata": {
        "colab": {
          "base_uri": "https://localhost:8080/"
        },
        "id": "JIsB39HchwTW",
        "outputId": "18bf1394-e0c8-4401-de83-50d0cff03efa"
      },
      "source": [
        "print(reutrsSentence)"
      ],
      "execution_count": 81,
      "outputs": [
        {
          "output_type": "stream",
          "text": [
            "[['ASIAN', 'EXPORTERS', 'FEAR', 'DAMAGE', 'FROM', 'U', '.', 'S', '.-', 'JAPAN', 'RIFT', 'Mounting', 'trade', 'friction', 'between', 'the', 'U', '.', 'S', '.', 'And', 'Japan', 'has', 'raised', 'fears', 'among', 'many', 'of', 'Asia', \"'\", 's', 'exporting', 'nations', 'that', 'the', 'row', 'could', 'inflict', 'far', '-', 'reaching', 'economic', 'damage', ',', 'businessmen', 'and', 'officials', 'said', '.'], ['They', 'told', 'Reuter', 'correspondents', 'in', 'Asian', 'capitals', 'a', 'U', '.', 'S', '.', 'Move', 'against', 'Japan', 'might', 'boost', 'protectionist', 'sentiment', 'in', 'the', 'U', '.', 'S', '.', 'And', 'lead', 'to', 'curbs', 'on', 'American', 'imports', 'of', 'their', 'products', '.'], ...]\n"
          ],
          "name": "stdout"
        }
      ]
    },
    {
      "cell_type": "code",
      "metadata": {
        "id": "lmtZvKYnfms_"
      },
      "source": [
        "def wordsProbability(wordModel):\r\n",
        "  for nextWord in wordModel:\r\n",
        "    nextWords = wordModel[nextWord]\r\n",
        "    totalWordCount = float(sum(nextWords.values()))\r\n",
        "    for previousWord in nextWords:\r\n",
        "      nextWords[previousWord] /= totalWordCount\r\n",
        "\r\n",
        "def singleWordProbability(sentenceModel,wordCount):\r\n",
        "  for word in sentenceModel:\r\n",
        "    sentenceModel[word] /= wordCount\r\n",
        "\r\n",
        "def toLowerCase(s):\r\n",
        "  if type(s)==str:\r\n",
        "    return s.lower()\r\n",
        "  return s"
      ],
      "execution_count": 74,
      "outputs": []
    },
    {
      "cell_type": "code",
      "metadata": {
        "id": "sZ8x-OZ6f7Bn"
      },
      "source": [
        "model1 = defaultdict(lambda: set())\r\n",
        "model2 = defaultdict(lambda: set())\r\n",
        "\r\n",
        "def wordCount(model3,model4,model5,sentences):\r\n",
        "  wordCount = 0\r\n",
        "  for sentence in sentences:\r\n",
        "    for word in sentence:\r\n",
        "      wordCount += 1\r\n",
        "      model3[word] += 1\r\n",
        "    for previousWord2,previousWord1,nextWord in trigrams(sentence,pad_right=True,pad_left=True):\r\n",
        "      previousWord1 = toLowerCase(previousWord1)\r\n",
        "      previousWord2 = toLowerCase(previousWord2)\r\n",
        "      nextWord = convertToLower(nextWord)\r\n",
        "      model4[nextWord][previousWord1] += 1 \r\n",
        "      model5[nextWord][previousWord2] += 1\r\n",
        "      model1[previousWord1].add(nextWord)\r\n",
        "      model2[previousWord2].add(nextWord) \r\n",
        "\r\n",
        "  return wordCount"
      ],
      "execution_count": 106,
      "outputs": []
    },
    {
      "cell_type": "code",
      "metadata": {
        "id": "btyUfa9w5sq5"
      },
      "source": [
        ""
      ],
      "execution_count": 100,
      "outputs": []
    },
    {
      "cell_type": "code",
      "metadata": {
        "id": "trMYxbVwf-Fk"
      },
      "source": [
        "model3 = defaultdict(lambda:0)\r\n",
        "model4 = defaultdict(lambda: defaultdict(lambda:0))\r\n",
        "model5 = defaultdict(lambda: defaultdict(lambda:0))"
      ],
      "execution_count": 115,
      "outputs": []
    },
    {
      "cell_type": "code",
      "metadata": {
        "colab": {
          "base_uri": "https://localhost:8080/"
        },
        "id": "wlJ6jKDb7QZ-",
        "outputId": "2c382072-c9a1-44b6-fe96-fa68abcecb78"
      },
      "source": [
        "wikiWordCount = wordCount(model3,model4,model5,sentences)\r\n",
        "print(wikiWordCount)"
      ],
      "execution_count": 116,
      "outputs": [
        {
          "output_type": "stream",
          "text": [
            "0\n"
          ],
          "name": "stdout"
        }
      ]
    },
    {
      "cell_type": "code",
      "metadata": {
        "colab": {
          "base_uri": "https://localhost:8080/"
        },
        "id": "EQ59TaUXgAwz",
        "outputId": "80387e91-63df-430f-a649-75411302dd33"
      },
      "source": [
        "reutrsWordCount = wordCount(model3,model4,model5,reutrsSentence)\r\n",
        "print(reutrsSentence)"
      ],
      "execution_count": 117,
      "outputs": [
        {
          "output_type": "stream",
          "text": [
            "[['ASIAN', 'EXPORTERS', 'FEAR', 'DAMAGE', 'FROM', 'U', '.', 'S', '.-', 'JAPAN', 'RIFT', 'Mounting', 'trade', 'friction', 'between', 'the', 'U', '.', 'S', '.', 'And', 'Japan', 'has', 'raised', 'fears', 'among', 'many', 'of', 'Asia', \"'\", 's', 'exporting', 'nations', 'that', 'the', 'row', 'could', 'inflict', 'far', '-', 'reaching', 'economic', 'damage', ',', 'businessmen', 'and', 'officials', 'said', '.'], ['They', 'told', 'Reuter', 'correspondents', 'in', 'Asian', 'capitals', 'a', 'U', '.', 'S', '.', 'Move', 'against', 'Japan', 'might', 'boost', 'protectionist', 'sentiment', 'in', 'the', 'U', '.', 'S', '.', 'And', 'lead', 'to', 'curbs', 'on', 'American', 'imports', 'of', 'their', 'products', '.'], ...]\n"
          ],
          "name": "stdout"
        }
      ]
    },
    {
      "cell_type": "code",
      "metadata": {
        "colab": {
          "base_uri": "https://localhost:8080/"
        },
        "id": "ABZQ0_wXgGT9",
        "outputId": "b154aefd-b037-41db-e8ca-9f7729d8bfa2"
      },
      "source": [
        "wordsProbability(model4)\r\n",
        "wordsProbability(model5)\r\n",
        "\r\n",
        "totalWord = wikiWordCount + reutrsWordCount\r\n",
        "print(totalWord)"
      ],
      "execution_count": 118,
      "outputs": [
        {
          "output_type": "stream",
          "text": [
            "1720917\n"
          ],
          "name": "stdout"
        }
      ]
    },
    {
      "cell_type": "code",
      "metadata": {
        "id": "1rso3YzT3wAp"
      },
      "source": [
        "singleWordProbability(model3,totalWord)"
      ],
      "execution_count": 119,
      "outputs": []
    },
    {
      "cell_type": "code",
      "metadata": {
        "id": "SLrTLL-pgIWW"
      },
      "source": [
        "probability = []\r\n",
        "def wordSuggestion(word2,word1): \r\n",
        "  for nextWord in model1[word1] & model2[word2]:\r\n",
        "    naiveBayesTrigramValue = model3[nextWord]*model4[nextWord][word1]*model5[nextWord][word2]\r\n",
        "    probability.append((nextWord,naiveBayesTrigramValue))"
      ],
      "execution_count": 120,
      "outputs": []
    },
    {
      "cell_type": "code",
      "metadata": {
        "colab": {
          "base_uri": "https://localhost:8080/"
        },
        "id": "UV_Y_JGNgWxz",
        "outputId": "8cadca52-beba-47c8-f7b5-3c5107134cfa"
      },
      "source": [
        "text = input(\"Text: \")\r\n",
        "probability = [] \r\n",
        "text = text.split(\" \")\r\n",
        "wordSuggestion(text[0],text[1])\r\n",
        "ProbabilityWordsList.sort(key=lambda o:o[1],reverse=True)\r\n",
        "print(*ProbabilityWordsList[:10])"
      ],
      "execution_count": 114,
      "outputs": [
        {
          "output_type": "stream",
          "text": [
            "Text: I have\n",
            "('to', 1.559359364961502e-08) ('that', 7.821940408821843e-09) ('and', 3.094102899178931e-09) ('it', 2.8855892064629994e-09) ('the', 2.230569445442022e-09) ('in', 1.986452993509535e-09) ('this', 1.306849467794441e-09) ('more', 1.0849316336406677e-09) ('of', 8.868631958384381e-10) ('little', 0.0)\n"
          ],
          "name": "stdout"
        }
      ]
    }
  ]
}